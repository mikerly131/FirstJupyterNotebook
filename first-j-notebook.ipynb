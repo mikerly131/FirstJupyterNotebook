{
 "cells": [
  {
   "cell_type": "code",
   "execution_count": 1,
   "id": "e71e846a-0e9f-4587-a07e-d4dd9ec7e076",
   "metadata": {},
   "outputs": [],
   "source": [
    "\"\"\"\n",
    "Setup notebook with pandas and pulling CSV file into a DataFrame\n",
    "\"\"\"\n",
    "import pandas as pd\n",
    "\n",
    "myDF = pd.read_csv('museums.csv', low_memory=False)"
   ]
  },
  {
   "cell_type": "code",
   "execution_count": 22,
   "id": "a1877ada-9ee0-4e9e-bb6d-c2c8dc04b75a",
   "metadata": {},
   "outputs": [
    {
     "data": {
      "text/html": [
       "<div>\n",
       "<style scoped>\n",
       "    .dataframe tbody tr th:only-of-type {\n",
       "        vertical-align: middle;\n",
       "    }\n",
       "\n",
       "    .dataframe tbody tr th {\n",
       "        vertical-align: top;\n",
       "    }\n",
       "\n",
       "    .dataframe thead th {\n",
       "        text-align: right;\n",
       "    }\n",
       "</style>\n",
       "<table border=\"1\" class=\"dataframe\">\n",
       "  <thead>\n",
       "    <tr style=\"text-align: right;\">\n",
       "      <th></th>\n",
       "      <th>Museum ID</th>\n",
       "      <th>Museum Name</th>\n",
       "      <th>Legal Name</th>\n",
       "      <th>Alternate Name</th>\n",
       "      <th>Museum Type</th>\n",
       "      <th>Institution Name</th>\n",
       "      <th>Street Address (Administrative Location)</th>\n",
       "      <th>City (Administrative Location)</th>\n",
       "      <th>State (Administrative Location)</th>\n",
       "      <th>Zip Code (Administrative Location)</th>\n",
       "      <th>...</th>\n",
       "      <th>Latitude</th>\n",
       "      <th>Longitude</th>\n",
       "      <th>Locale Code (NCES)</th>\n",
       "      <th>County Code (FIPS)</th>\n",
       "      <th>State Code (FIPS)</th>\n",
       "      <th>Region Code (AAM)</th>\n",
       "      <th>Employer ID Number</th>\n",
       "      <th>Tax Period</th>\n",
       "      <th>Income</th>\n",
       "      <th>Revenue</th>\n",
       "    </tr>\n",
       "  </thead>\n",
       "  <tbody>\n",
       "    <tr>\n",
       "      <th>0</th>\n",
       "      <td>8400200098</td>\n",
       "      <td>ALASKA AVIATION HERITAGE MUSEUM</td>\n",
       "      <td>ALASKA AVIATION HERITAGE MUSEUM</td>\n",
       "      <td>NaN</td>\n",
       "      <td>HISTORY MUSEUM</td>\n",
       "      <td>NaN</td>\n",
       "      <td>4721 AIRCRAFT DR</td>\n",
       "      <td>ANCHORAGE</td>\n",
       "      <td>AK</td>\n",
       "      <td>99502</td>\n",
       "      <td>...</td>\n",
       "      <td>61.17925</td>\n",
       "      <td>-149.97254</td>\n",
       "      <td>1.0</td>\n",
       "      <td>20.0</td>\n",
       "      <td>2.0</td>\n",
       "      <td>6</td>\n",
       "      <td>920071852</td>\n",
       "      <td>201312.0</td>\n",
       "      <td>602912.0</td>\n",
       "      <td>550236.0</td>\n",
       "    </tr>\n",
       "    <tr>\n",
       "      <th>1</th>\n",
       "      <td>8400200117</td>\n",
       "      <td>ALASKA BOTANICAL GARDEN</td>\n",
       "      <td>ALASKA BOTANICAL GARDEN INC</td>\n",
       "      <td>NaN</td>\n",
       "      <td>ARBORETUM, BOTANICAL GARDEN, OR NATURE CENTER</td>\n",
       "      <td>NaN</td>\n",
       "      <td>4601 CAMPBELL AIRSTRIP RD</td>\n",
       "      <td>ANCHORAGE</td>\n",
       "      <td>AK</td>\n",
       "      <td>99507</td>\n",
       "      <td>...</td>\n",
       "      <td>61.16890</td>\n",
       "      <td>-149.76708</td>\n",
       "      <td>4.0</td>\n",
       "      <td>20.0</td>\n",
       "      <td>2.0</td>\n",
       "      <td>6</td>\n",
       "      <td>920115504</td>\n",
       "      <td>201312.0</td>\n",
       "      <td>1379576.0</td>\n",
       "      <td>1323742.0</td>\n",
       "    </tr>\n",
       "    <tr>\n",
       "      <th>2</th>\n",
       "      <td>8400200153</td>\n",
       "      <td>ALASKA CHALLENGER CENTER FOR SPACE SCIENCE TEC...</td>\n",
       "      <td>ALASKA CHALLENGER CENTER FOR SPACE SCIENCE TEC...</td>\n",
       "      <td>NaN</td>\n",
       "      <td>SCIENCE &amp; TECHNOLOGY MUSEUM OR PLANETARIUM</td>\n",
       "      <td>NaN</td>\n",
       "      <td>9711 KENAI SPUR HWY</td>\n",
       "      <td>KENAI</td>\n",
       "      <td>AK</td>\n",
       "      <td>99611</td>\n",
       "      <td>...</td>\n",
       "      <td>60.56149</td>\n",
       "      <td>-151.21598</td>\n",
       "      <td>3.0</td>\n",
       "      <td>122.0</td>\n",
       "      <td>2.0</td>\n",
       "      <td>6</td>\n",
       "      <td>921761906</td>\n",
       "      <td>201312.0</td>\n",
       "      <td>740030.0</td>\n",
       "      <td>729080.0</td>\n",
       "    </tr>\n",
       "    <tr>\n",
       "      <th>3</th>\n",
       "      <td>8400200143</td>\n",
       "      <td>ALASKA EDUCATORS HISTORICAL SOCIETY</td>\n",
       "      <td>ALASKA EDUCATORS HISTORICAL SOCIETY</td>\n",
       "      <td>NaN</td>\n",
       "      <td>HISTORIC PRESERVATION</td>\n",
       "      <td>NaN</td>\n",
       "      <td>214 BIRCH STREET</td>\n",
       "      <td>KENAI</td>\n",
       "      <td>AK</td>\n",
       "      <td>99611</td>\n",
       "      <td>...</td>\n",
       "      <td>60.56280</td>\n",
       "      <td>-151.26597</td>\n",
       "      <td>3.0</td>\n",
       "      <td>122.0</td>\n",
       "      <td>2.0</td>\n",
       "      <td>6</td>\n",
       "      <td>920165178</td>\n",
       "      <td>201412.0</td>\n",
       "      <td>0.0</td>\n",
       "      <td>0.0</td>\n",
       "    </tr>\n",
       "    <tr>\n",
       "      <th>4</th>\n",
       "      <td>8400200027</td>\n",
       "      <td>ALASKA HERITAGE MUSEUM</td>\n",
       "      <td>ALASKA AVIATION HERITAGE MUSEUM</td>\n",
       "      <td>NaN</td>\n",
       "      <td>HISTORY MUSEUM</td>\n",
       "      <td>NaN</td>\n",
       "      <td>301 W NORTHERN LIGHTS BLVD</td>\n",
       "      <td>ANCHORAGE</td>\n",
       "      <td>AK</td>\n",
       "      <td>99503</td>\n",
       "      <td>...</td>\n",
       "      <td>61.17925</td>\n",
       "      <td>-149.97254</td>\n",
       "      <td>1.0</td>\n",
       "      <td>20.0</td>\n",
       "      <td>2.0</td>\n",
       "      <td>6</td>\n",
       "      <td>920071852</td>\n",
       "      <td>201312.0</td>\n",
       "      <td>602912.0</td>\n",
       "      <td>550236.0</td>\n",
       "    </tr>\n",
       "  </tbody>\n",
       "</table>\n",
       "<p>5 rows × 25 columns</p>\n",
       "</div>"
      ],
      "text/plain": [
       "    Museum ID                                        Museum Name  \\\n",
       "0  8400200098                    ALASKA AVIATION HERITAGE MUSEUM   \n",
       "1  8400200117                            ALASKA BOTANICAL GARDEN   \n",
       "2  8400200153  ALASKA CHALLENGER CENTER FOR SPACE SCIENCE TEC...   \n",
       "3  8400200143                ALASKA EDUCATORS HISTORICAL SOCIETY   \n",
       "4  8400200027                             ALASKA HERITAGE MUSEUM   \n",
       "\n",
       "                                          Legal Name Alternate Name  \\\n",
       "0                    ALASKA AVIATION HERITAGE MUSEUM            NaN   \n",
       "1                        ALASKA BOTANICAL GARDEN INC            NaN   \n",
       "2  ALASKA CHALLENGER CENTER FOR SPACE SCIENCE TEC...            NaN   \n",
       "3                ALASKA EDUCATORS HISTORICAL SOCIETY            NaN   \n",
       "4                    ALASKA AVIATION HERITAGE MUSEUM            NaN   \n",
       "\n",
       "                                     Museum Type Institution Name  \\\n",
       "0                                 HISTORY MUSEUM              NaN   \n",
       "1  ARBORETUM, BOTANICAL GARDEN, OR NATURE CENTER              NaN   \n",
       "2     SCIENCE & TECHNOLOGY MUSEUM OR PLANETARIUM              NaN   \n",
       "3                          HISTORIC PRESERVATION              NaN   \n",
       "4                                 HISTORY MUSEUM              NaN   \n",
       "\n",
       "  Street Address (Administrative Location) City (Administrative Location)  \\\n",
       "0                         4721 AIRCRAFT DR                      ANCHORAGE   \n",
       "1                4601 CAMPBELL AIRSTRIP RD                      ANCHORAGE   \n",
       "2                      9711 KENAI SPUR HWY                          KENAI   \n",
       "3                         214 BIRCH STREET                          KENAI   \n",
       "4               301 W NORTHERN LIGHTS BLVD                      ANCHORAGE   \n",
       "\n",
       "  State (Administrative Location) Zip Code (Administrative Location)  ...  \\\n",
       "0                              AK                              99502  ...   \n",
       "1                              AK                              99507  ...   \n",
       "2                              AK                              99611  ...   \n",
       "3                              AK                              99611  ...   \n",
       "4                              AK                              99503  ...   \n",
       "\n",
       "   Latitude  Longitude Locale Code (NCES)  County Code (FIPS)  \\\n",
       "0  61.17925 -149.97254                1.0                20.0   \n",
       "1  61.16890 -149.76708                4.0                20.0   \n",
       "2  60.56149 -151.21598                3.0               122.0   \n",
       "3  60.56280 -151.26597                3.0               122.0   \n",
       "4  61.17925 -149.97254                1.0                20.0   \n",
       "\n",
       "  State Code (FIPS)  Region Code (AAM)  Employer ID Number  Tax Period  \\\n",
       "0               2.0                  6           920071852    201312.0   \n",
       "1               2.0                  6           920115504    201312.0   \n",
       "2               2.0                  6           921761906    201312.0   \n",
       "3               2.0                  6           920165178    201412.0   \n",
       "4               2.0                  6           920071852    201312.0   \n",
       "\n",
       "      Income    Revenue  \n",
       "0   602912.0   550236.0  \n",
       "1  1379576.0  1323742.0  \n",
       "2   740030.0   729080.0  \n",
       "3        0.0        0.0  \n",
       "4   602912.0   550236.0  \n",
       "\n",
       "[5 rows x 25 columns]"
      ]
     },
     "execution_count": 22,
     "metadata": {},
     "output_type": "execute_result"
    }
   ],
   "source": [
    "# See beginning and end of data frame\n",
    "# First 5 rows\n",
    "myDF.head()"
   ]
  },
  {
   "cell_type": "code",
   "execution_count": null,
   "id": "786cef99-15c4-48ca-9ff4-ca2ce999885c",
   "metadata": {},
   "outputs": [],
   "source": [
    "# Last 5 rows\n",
    "myDF.tail()"
   ]
  },
  {
   "cell_type": "code",
   "execution_count": null,
   "id": "cf522195-48b3-4d61-800a-5f402f24ca42",
   "metadata": {},
   "outputs": [],
   "source": [
    "# First 5 and Last 5\n",
    "myDF"
   ]
  },
  {
   "cell_type": "code",
   "execution_count": null,
   "id": "985ffe63-a017-43cd-8e57-86f7c0e86a3a",
   "metadata": {},
   "outputs": [],
   "source": [
    "# Shows all of the columns\n",
    "myDF.info()"
   ]
  },
  {
   "cell_type": "code",
   "execution_count": 33,
   "id": "a0833674-9ddb-488f-af25-348b13ca1313",
   "metadata": {},
   "outputs": [
    {
     "data": {
      "text/plain": [
       "564"
      ]
     },
     "execution_count": 33,
     "metadata": {},
     "output_type": "execute_result"
    }
   ],
   "source": [
    "# Question 4 - How many zoos are there in the USA?\n",
    "t = myDF['Museum Type'].unique()\n",
    "t_list = t.tolist()\n",
    "# ZOO, AQUARIUM, OR WILDLIFE CONSERVATION\n",
    "\n",
    "total_zoos = (myDF['Museum Type']=='ZOO, AQUARIUM, OR WILDLIFE CONSERVATION')\n",
    "total_zoos.sum()"
   ]
  },
  {
   "cell_type": "code",
   "execution_count": 34,
   "id": "f42f0acc-04f3-4fbb-8ce1-f4dceef363c7",
   "metadata": {},
   "outputs": [
    {
     "name": "stdout",
     "output_type": "stream",
     "text": [
      "289\n",
      "111\n",
      "5\n"
     ]
    }
   ],
   "source": [
    "# Get the total of ZOOS, AQUARAIUMS (also including AQUATIC as aquarium)\n",
    "def findType(kind: str):\n",
    "    zoos = 0\n",
    "    for n in myDF['Museum Name']:\n",
    "        if n.find(kind) != -1:\n",
    "            zoos += 1\n",
    "    return zoos\n",
    "\n",
    "    return n\n",
    "\n",
    "print(findType('ZOO'))\n",
    "print(findType('AQUARIUM'))\n",
    "print(findType('AQUATIC'))"
   ]
  },
  {
   "cell_type": "code",
   "execution_count": null,
   "id": "be9f1da5-a7b7-4a7f-90a4-b19bbf31bc35",
   "metadata": {},
   "outputs": [],
   "source": [
    "# Getting total example\n",
    "# total = 0\n",
    "# [total := total + x for x in [1,2,3,4,5]] "
   ]
  },
  {
   "cell_type": "markdown",
   "id": "1b1e80f4-edec-40b1-b0d7-ccc10f32a97c",
   "metadata": {},
   "source": [
    "A second function that will count by substring found in string from Museum Name series"
   ]
  },
  {
   "cell_type": "code",
   "execution_count": 38,
   "id": "cf930525-7d02-4f26-8525-10b9de5c367e",
   "metadata": {},
   "outputs": [
    {
     "name": "stdout",
     "output_type": "stream",
     "text": [
      "289\n"
     ]
    }
   ],
   "source": [
    "def newFindType(kind):\n",
    "    return len([n for n in myDF['Museum Name'] if n.find(kind) != -1])\n",
    "\n",
    "print(newFindType('ZOO'))"
   ]
  },
  {
   "cell_type": "code",
   "execution_count": 40,
   "id": "f5216efc-b8aa-46e2-aa99-1c711454975e",
   "metadata": {},
   "outputs": [
    {
     "name": "stdout",
     "output_type": "stream",
     "text": [
      "5840349457.0\n",
      "value: 5840349457.0\n"
     ]
    }
   ],
   "source": [
    "# Find the max revenue museum\n",
    "rev = myDF['Revenue'].max()\n",
    "print(rev)\n",
    "# Can directly print it with formatted string\n",
    "print(f'value: {myDF['Revenue'].max()}')"
   ]
  },
  {
   "cell_type": "code",
   "execution_count": 41,
   "id": "261fafe9-6bc6-439d-8974-02aab89eeab2",
   "metadata": {},
   "outputs": [
    {
     "data": {
      "text/plain": [
       "Revenue    1090\n",
       "dtype: int64"
      ]
     },
     "execution_count": 41,
     "metadata": {},
     "output_type": "execute_result"
    }
   ],
   "source": [
    "# Which row (index location) has the max reveneue (iloc)\n",
    "myDF[['Revenue']].idxmax()"
   ]
  },
  {
   "cell_type": "code",
   "execution_count": 42,
   "id": "aba38502-86d3-4b7b-88fa-2d10395da654",
   "metadata": {},
   "outputs": [
    {
     "data": {
      "text/plain": [
       "Museum ID                                                                   8409500460\n",
       "Museum Name                                          FRED LAWRENCE WHIPPLE OBSERVATORY\n",
       "Legal Name                                    PRESIDENT AND FELLOWS OF HARVARD COLLEGE\n",
       "Alternate Name                                                                     NaN\n",
       "Museum Type                                 SCIENCE & TECHNOLOGY MUSEUM OR PLANETARIUM\n",
       "Institution Name                                                    HARVARD UNIVERSITY\n",
       "Street Address (Administrative Location)                             670 MT HOPKINS RD\n",
       "City (Administrative Location)                                                   AMADO\n",
       "State (Administrative Location)                                                     AZ\n",
       "Zip Code (Administrative Location)                                                2138\n",
       "Street Address (Physical Location)                                                 NaN\n",
       "City (Physical Location)                                                           NaN\n",
       "State (Physical Location)                                                          NaN\n",
       "Zip Code (Physical Location)                                                       NaN\n",
       "Phone Number                                                                       NaN\n",
       "Latitude                                                                      42.36977\n",
       "Longitude                                                                    -71.11216\n",
       "Locale Code (NCES)                                                                 1.0\n",
       "County Code (FIPS)                                                                17.0\n",
       "State Code (FIPS)                                                                 25.0\n",
       "Region Code (AAM)                                                                    1\n",
       "Employer ID Number                                                            42103580\n",
       "Tax Period                                                                    201306.0\n",
       "Income                                                                   83181439574.0\n",
       "Revenue                                                                   5840349457.0\n",
       "Name: 1090, dtype: object"
      ]
     },
     "execution_count": 42,
     "metadata": {},
     "output_type": "execute_result"
    }
   ],
   "source": [
    "myDF.iloc[1090]"
   ]
  },
  {
   "cell_type": "code",
   "execution_count": null,
   "id": "fd8f1214-42f8-4236-8fe8-9203cfd09271",
   "metadata": {},
   "outputs": [],
   "source": [
    "myDFZoos = myDF[myDF['Museum Type'] == 'ZOO, AQUARIUM, OR WILDLIFE CONSERVATION']"
   ]
  },
  {
   "cell_type": "code",
   "execution_count": 44,
   "id": "d319049d-b3c7-493f-b199-77368d3cb408",
   "metadata": {},
   "outputs": [
    {
     "name": "stdout",
     "output_type": "stream",
     "text": [
      "\n",
      "Result for  HISTORY MUSEUM\n",
      "\n",
      "Revenue 9402442.005914243\n",
      "\n",
      "Income 16963110.9820246\n",
      "\n",
      "Result for  ARBORETUM, BOTANICAL GARDEN, OR NATURE CENTER\n",
      "\n",
      "Revenue 77879222.32479784\n",
      "\n",
      "Income 480720809.7409794\n",
      "\n",
      "Result for  SCIENCE & TECHNOLOGY MUSEUM OR PLANETARIUM\n",
      "\n",
      "Revenue 114309309.28398058\n",
      "\n",
      "Income 956181258.8830549\n",
      "\n",
      "Result for  HISTORIC PRESERVATION\n",
      "\n",
      "Revenue 2035601.9049426587\n",
      "\n",
      "Income 9473738.8984375\n",
      "\n",
      "Result for  GENERAL MUSEUM\n",
      "\n",
      "Revenue 27402841.554976422\n",
      "\n",
      "Income 177269468.87586686\n",
      "\n",
      "Result for  ZOO, AQUARIUM, OR WILDLIFE CONSERVATION\n",
      "\n",
      "Revenue 5483602.044520548\n",
      "\n",
      "Income 6452932.625827814\n",
      "\n",
      "Result for  ART MUSEUM\n",
      "\n",
      "Revenue 100787436.65130152\n",
      "\n",
      "Income 322314625.044596\n",
      "\n",
      "Result for  CHILDREN'S MUSEUM\n",
      "\n",
      "Revenue 1355363.6276923076\n",
      "\n",
      "Income 1963783.0121212122\n",
      "\n",
      "Result for  NATURAL HISTORY MUSEUM\n",
      "\n",
      "Revenue 85498323.85531914\n",
      "\n",
      "Income 589846147.3852459\n"
     ]
    }
   ],
   "source": [
    "# These are all broken now. \n",
    "def descMuseumType(mtype):\n",
    "    s = myDF[(myDF['Museum Type']==mtype)]\n",
    "    print('\\nResult for ', mtype)\n",
    "    print('\\nRevenue',s['Revenue'].mean())\n",
    "    print('\\nIncome',s['Income'].mean())\n",
    "\n",
    "museum_type_list = myDF['Museum Type'].unique().tolist()\n",
    "for museum in museum_type_list:\n",
    "    descMuseumType(museum)\n",
    "    "
   ]
  },
  {
   "cell_type": "code",
   "execution_count": null,
   "id": "ecc99a5e-4912-4c95-ad0f-822a8e2f5f64",
   "metadata": {},
   "outputs": [],
   "source": []
  }
 ],
 "metadata": {
  "kernelspec": {
   "display_name": "Python 3 (ipykernel)",
   "language": "python",
   "name": "python3"
  },
  "language_info": {
   "codemirror_mode": {
    "name": "ipython",
    "version": 3
   },
   "file_extension": ".py",
   "mimetype": "text/x-python",
   "name": "python",
   "nbconvert_exporter": "python",
   "pygments_lexer": "ipython3",
   "version": "3.12.0"
  }
 },
 "nbformat": 4,
 "nbformat_minor": 5
}
